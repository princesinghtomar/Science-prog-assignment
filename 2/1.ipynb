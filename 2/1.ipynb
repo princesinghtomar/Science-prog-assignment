{
 "metadata": {
  "language_info": {
   "codemirror_mode": {
    "name": "ipython",
    "version": 3
   },
   "file_extension": ".py",
   "mimetype": "text/x-python",
   "name": "python",
   "nbconvert_exporter": "python",
   "pygments_lexer": "ipython3",
   "version": "3.9.2-final"
  },
  "orig_nbformat": 2,
  "kernelspec": {
   "name": "python392jvsc74a57bd0767d51c1340bd893661ea55ea3124f6de3c7a262a8b4abca0554b478b1e2ff90",
   "display_name": "Python 3.9.2 64-bit"
  },
  "metadata": {
   "interpreter": {
    "hash": "767d51c1340bd893661ea55ea3124f6de3c7a262a8b4abca0554b478b1e2ff90"
   }
  }
 },
 "nbformat": 4,
 "nbformat_minor": 2,
 "cells": [
  {
   "cell_type": "code",
   "execution_count": 28,
   "metadata": {},
   "outputs": [
    {
     "output_type": "stream",
     "name": "stdout",
     "text": [
      "Simulated Probability of A appearing atleast 240 time  : 0.7767\nCalculated Probability of A appearing atleast 240 time : 0.7776521016977749\n"
     ]
    }
   ],
   "source": [
    "# Question 1\n",
    "import numpy as np \n",
    "import matplotlib.pyplot as plt\n",
    "from scipy import stats\n",
    "import random\n",
    "import math\n",
    "\n",
    "p = 0.25\n",
    "n = 1000\n",
    "\n",
    "BinomScipy = stats.binom(n,p)\n",
    "\n",
    "random.seed(0)\n",
    "\n",
    "arr = ['A','T','C','G'] # Since p = 0.25 , here also p(A) = 0.25 \n",
    "\n",
    "x = []\n",
    "y = []\n",
    "\n",
    "temp = 0\n",
    "temp_arr = []\n",
    "temp_1 = 0\n",
    "for j in range(0,10000):\n",
    "    temp = 0\n",
    "    for k in range(0,1000):\n",
    "        temp += 1 if (random.choice(arr) == 'A') else 0\n",
    "    if(temp >= 240):\n",
    "        temp_1 += 1\n",
    "\n",
    "print(\"Simulated Probability of A appearing atleast 240 time  : \" + str(temp_1/10000) )\n",
    "print(\"Calculated Probability of A appearing atleast 240 time : \" + str(1-BinomScipy.cdf(239.9999)))"
   ]
  },
  {
   "cell_type": "code",
   "execution_count": 29,
   "metadata": {},
   "outputs": [
    {
     "output_type": "stream",
     "name": "stdout",
     "text": [
      "P[X=0] : 0.028247524899999984 | P[X=2] : 0.23347444049999988 | E[X] : 3.0 | Var[X] : 2.0999999999999996\n"
     ]
    }
   ],
   "source": [
    "# Question #2\n",
    "n = 10\n",
    "p = 0.3\n",
    "\n",
    "k = 0\n",
    "p0 = math.comb(n,k)*math.pow(p,k)*math.pow(1-p,n-k)\n",
    "\n",
    "k = 2\n",
    "p2 = math.comb(n,k)*math.pow(p,k)*math.pow(1-p,n-k)\n",
    "\n",
    "EX = n*p\n",
    "\n",
    "VARX = n*p*(1-p)\n",
    "\n",
    "print(\"P[X=0] : \" + str(p0) + \" | P[X=2] : \" + str(p2) + \" | E[X] : \" + str(EX) + \" | Var[X] : \" + str(VARX))"
   ]
  },
  {
   "cell_type": "code",
   "execution_count": 30,
   "metadata": {},
   "outputs": [
    {
     "output_type": "execute_result",
     "data": {
      "text/plain": [
       "'\\nhttps://en.wikipedia.org/wiki/K-mer\\n'"
      ]
     },
     "metadata": {},
     "execution_count": 30
    }
   ],
   "source": [
    "# Question #3\n",
    "'''\n",
    "https://en.wikipedia.org/wiki/K-mer\n",
    "'''"
   ]
  },
  {
   "cell_type": "code",
   "execution_count": 31,
   "metadata": {},
   "outputs": [
    {
     "output_type": "stream",
     "name": "stdout",
     "text": [
      " |G|G|G|T|A|A|G|C|T|T|G|C\n--------------------------\nG|X|X|X| | | |X| | | |X| |\nG|X|X|X| | | |X| | | |X| |\nC| | | | | | | |X| | | |X|\nT| | | |X| | | | |X|X| | |\nG|X|X|X| | | |X| | | |X| |\nC| | | | | | | |X| | | |X|\nA| | | | |X|X| | | | | | |\nA| | | | |X|X| | | | | | |\nC| | | | | | | |X| | | |X|\nT| | | |X| | | | |X|X| | |\nA| | | | |X|X| | | | | | |\nG|X|X|X| | | |X| | | |X| |\nC| | | | | | | |X| | | |X|\nT| | | |X| | | | |X|X| | |\nC| | | | | | | |X| | | |X|\n"
     ]
    }
   ],
   "source": [
    "# Question #4\n",
    "import numpy\n",
    "import matplotlib.pyplot as plt\n",
    "\n",
    "def delta(x,y):\n",
    "    return 0 if x == y else 1\n",
    "\n",
    "def M(seq1,seq2,i,j,k):\n",
    "    return sum(delta(x,y) for x,y in zip(seq1[i:i+k],seq2[j:j+k]))\n",
    "\n",
    "def makeMatrix(seq1,seq2,k):\n",
    "    n = len(seq1)\n",
    "    m = len(seq2)\n",
    "    return [[M(seq1,seq2,i,j,k) for j in range(m-k+1)] for i in range(n-k+1)]\n",
    "\n",
    "def plotMatrix(M,t, seq1, seq2, nonblank = chr(0x25A0), blank = ' |'):\n",
    "    print(' ',end=\"\")\n",
    "    for i in seq2:\n",
    "        print(\"|\" + i,end=\"\")\n",
    "    print(\"\")\n",
    "    print('-'*(2 + 2*len(seq2)))\n",
    "    for label,row in zip(seq1,M):\n",
    "        line = ''.join('X|' if s < t else blank for s in row)\n",
    "        print(label + '|' + line)\n",
    "        # print('-'*(2 + 2*len(seq2)))\n",
    "\n",
    "def dotplot(seq1,seq2,k = 1,t = 1):\n",
    "    M = makeMatrix(seq1,seq2,k)\n",
    "    plotMatrix(M, t, seq1,seq2) #experiment with chara\n",
    "\n",
    "seqx = 'GGCTGCAACTAGCTC'\n",
    "seqy = 'GGGTAAGCTTGC'\n",
    "dotplot(seqx,seqy)"
   ]
  },
  {
   "cell_type": "code",
   "execution_count": 32,
   "metadata": {},
   "outputs": [
    {
     "output_type": "stream",
     "name": "stdout",
     "text": [
      " |T|G|G|C|A|C|A|C|T|C|A|C|A|C|C|A|C|A|C|A|G|A|C|A|G|T|T|A\n----------------------------------------------------------\nT|X| | | | | | | |X| | | | | | | | | | | | | | | | |X|X| |\nG| |X|X| | | | | | | | | | | | | | | | | |X| | | |X| | | |\nG| |X|X| | | | | | | | | | | | | | | | | |X| | | |X| | | |\nC| | | |X| |X| |X| |X| |X| |X|X| |X| |X| | | |X| | | | | |\nA| | | | |X| |X| | | |X| |X| | |X| |X| |X| |X| |X| | | |X|\nC| | | |X| |X| |X| |X| |X| |X|X| |X| |X| | | |X| | | | | |\nA| | | | |X| |X| | | |X| |X| | |X| |X| |X| |X| |X| | | |X|\nC| | | |X| |X| |X| |X| |X| |X|X| |X| |X| | | |X| | | | | |\nT|X| | | | | | | |X| | | | | | | | | | | | | | | | |X|X| |\nC| | | |X| |X| |X| |X| |X| |X|X| |X| |X| | | |X| | | | | |\nA| | | | |X| |X| | | |X| |X| | |X| |X| |X| |X| |X| | | |X|\nC| | | |X| |X| |X| |X| |X| |X|X| |X| |X| | | |X| | | | | |\nA| | | | |X| |X| | | |X| |X| | |X| |X| |X| |X| |X| | | |X|\nC| | | |X| |X| |X| |X| |X| |X|X| |X| |X| | | |X| | | | | |\nC| | | |X| |X| |X| |X| |X| |X|X| |X| |X| | | |X| | | | | |\nA| | | | |X| |X| | | |X| |X| | |X| |X| |X| |X| |X| | | |X|\nC| | | |X| |X| |X| |X| |X| |X|X| |X| |X| | | |X| | | | | |\nA| | | | |X| |X| | | |X| |X| | |X| |X| |X| |X| |X| | | |X|\nC| | | |X| |X| |X| |X| |X| |X|X| |X| |X| | | |X| | | | | |\nA| | | | |X| |X| | | |X| |X| | |X| |X| |X| |X| |X| | | |X|\nG| |X|X| | | | | | | | | | | | | | | | | |X| | | |X| | | |\nA| | | | |X| |X| | | |X| |X| | |X| |X| |X| |X| |X| | | |X|\nC| | | |X| |X| |X| |X| |X| |X|X| |X| |X| | | |X| | | | | |\nA| | | | |X| |X| | | |X| |X| | |X| |X| |X| |X| |X| | | |X|\nG| |X|X| | | | | | | | | | | | | | | | | |X| | | |X| | | |\nT|X| | | | | | | |X| | | | | | | | | | | | | | | | |X|X| |\nT|X| | | | | | | |X| | | | | | | | | | | | | | | | |X|X| |\nA| | | | |X| |X| | | |X| |X| | |X| |X| |X| |X| |X| | | |X|\n"
     ]
    }
   ],
   "source": [
    "# Question #5\n",
    "seqy = seqx = 'TGGCACACTCACACCACACAGACAGTTA'\n",
    "dotplot(seqx,seqy)"
   ]
  },
  {
   "cell_type": "code",
   "execution_count": 33,
   "metadata": {},
   "outputs": [
    {
     "output_type": "stream",
     "name": "stdout",
     "text": [
      " |A|U|G|U|G|G|C|A|U|G|C|C|A|G|G\n--------------------------------\nA|X| | | | | | |X| | | | |X| | |\nU| |X| |X| | | | |X| | | | | | |\nG| | |X| |X|X| | | |X| | | |X|X|\nU| |X| |X| | | | |X| | | | | | |\nG| | |X| |X|X| | | |X| | | |X|X|\nG| | |X| |X|X| | | |X| | | |X|X|\nC| | | | | | |X| | | |X|X| | | |\nA|X| | | | | | |X| | | | |X| | |\nU| |X| |X| | | | |X| | | | | | |\nG| | |X| |X|X| | | |X| | | |X|X|\nC| | | | | | |X| | | |X|X| | | |\nC| | | | | | |X| | | |X|X| | | |\nA|X| | | | | | |X| | | | |X| | |\nG| | |X| |X|X| | | |X| | | |X|X|\nG| | |X| |X|X| | | |X| | | |X|X|\n"
     ]
    }
   ],
   "source": [
    "# Question #6\n",
    "seqy = seqx = 'AUGUGGCAUGCCAGG'\n",
    "dotplot(seqx,seqy)"
   ]
  },
  {
   "cell_type": "code",
   "execution_count": null,
   "metadata": {},
   "outputs": [],
   "source": []
  }
 ]
}