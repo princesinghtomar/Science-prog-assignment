{
 "metadata": {
  "language_info": {
   "codemirror_mode": {
    "name": "ipython",
    "version": 3
   },
   "file_extension": ".py",
   "mimetype": "text/x-python",
   "name": "python",
   "nbconvert_exporter": "python",
   "pygments_lexer": "ipython3",
   "version": "3.9.2-final"
  },
  "orig_nbformat": 2,
  "kernelspec": {
   "name": "python392jvsc74a57bd0767d51c1340bd893661ea55ea3124f6de3c7a262a8b4abca0554b478b1e2ff90",
   "display_name": "Python 3.9.2 64-bit"
  },
  "metadata": {
   "interpreter": {
    "hash": "767d51c1340bd893661ea55ea3124f6de3c7a262a8b4abca0554b478b1e2ff90"
   }
  }
 },
 "nbformat": 4,
 "nbformat_minor": 2,
 "cells": [
  {
   "cell_type": "code",
   "execution_count": 13,
   "metadata": {},
   "outputs": [
    {
     "output_type": "stream",
     "name": "stdout",
     "text": [
      "Simulated Probability of A appearing 240 time : 0.0223\nCalculated Probability of A appearing 240 time : 0.022561581452000257\n"
     ]
    }
   ],
   "source": [
    "# Question 1\n",
    "import numpy as np \n",
    "import matplotlib.pyplot as plt\n",
    "import random\n",
    "import math\n",
    "\n",
    "random.seed(0)\n",
    "\n",
    "arr = ['A','T','C','G']\n",
    "\n",
    "x = []\n",
    "y = []\n",
    "\n",
    "temp = 0\n",
    "temp_arr = []\n",
    "temp_1 = 0\n",
    "for j in range(0,10000):\n",
    "    temp = 0\n",
    "    for k in range(0,1000):\n",
    "        temp += 1 if (random.choice(arr) == 'A') else 0\n",
    "    if(temp == 240):\n",
    "        temp_1 += 1\n",
    "\n",
    "print(\"Simulated Probability of A appearing 240 time : \" + str(temp_1/10000) )\n",
    "print(\"Calculated Probability of A appearing 240 time : \" + str(math.comb(1000,240)*math.pow(0.25,240)*math.pow(0.75,1000-240)))"
   ]
  },
  {
   "cell_type": "code",
   "execution_count": 19,
   "metadata": {},
   "outputs": [
    {
     "output_type": "stream",
     "name": "stdout",
     "text": [
      "P[X=0] : 0.028247524899999984 | P[X=2] : 0.23347444049999988 | E[X] : 3.0 | Var[X] : 2.0999999999999996\n"
     ]
    }
   ],
   "source": [
    "# Question #2\n",
    "n = 10\n",
    "p = 0.3\n",
    "\n",
    "k = 0\n",
    "p0 = math.comb(n,k)*math.pow(p,k)*math.pow(1-p,n-k)\n",
    "\n",
    "k = 2\n",
    "p2 = math.comb(n,k)*math.pow(p,k)*math.pow(1-p,n-k)\n",
    "\n",
    "EX = n*p\n",
    "\n",
    "VARX = n*p*(1-p)\n",
    "\n",
    "print(\"P[X=0] : \" + str(p0) + \" | P[X=2] : \" + str(p2) + \" | E[X] : \" + str(EX) + \" | Var[X] : \" + str(VARX))"
   ]
  },
  {
   "cell_type": "code",
   "execution_count": 15,
   "metadata": {},
   "outputs": [
    {
     "output_type": "execute_result",
     "data": {
      "text/plain": [
       "'\\nhttps://en.wikipedia.org/wiki/K-mer\\n'"
      ]
     },
     "metadata": {},
     "execution_count": 15
    }
   ],
   "source": [
    "# Question #3\n",
    "'''\n",
    "https://en.wikipedia.org/wiki/K-mer\n",
    "'''"
   ]
  },
  {
   "cell_type": "code",
   "execution_count": 16,
   "metadata": {},
   "outputs": [
    {
     "output_type": "stream",
     "name": "stdout",
     "text": [
      " |GGGTAAGCTTGC\n--------------\nG|XXX   X   X \nG|XXX   X   X \nC|       X   X\nT|   X    XX  \nG|XXX   X   X \nC|       X   X\nA|    XX      \nA|    XX      \nC|       X   X\nT|   X    XX  \nA|    XX      \nG|XXX   X   X \nC|       X   X\nT|   X    XX  \nC|       X   X\n"
     ]
    }
   ],
   "source": [
    "# Question #4\n",
    "import numpy\n",
    "import matplotlib.pyplot as plt\n",
    "\n",
    "def delta(x,y):\n",
    "    return 0 if x == y else 1\n",
    "\n",
    "def M(seq1,seq2,i,j,k):\n",
    "    return sum(delta(x,y) for x,y in zip(seq1[i:i+k],seq2[j:j+k]))\n",
    "\n",
    "def makeMatrix(seq1,seq2,k):\n",
    "    n = len(seq1)\n",
    "    m = len(seq2)\n",
    "    return [[M(seq1,seq2,i,j,k) for j in range(m-k+1)] for i in range(n-k+1)]\n",
    "\n",
    "def plotMatrix(M,t, seq1, seq2, nonblank = chr(0x25A0), blank = ' '):\n",
    "    print(' |' + seq2)\n",
    "    print('-'*(2 + len(seq2)))\n",
    "    for label,row in zip(seq1,M):\n",
    "        line = ''.join('X' if s < t else blank for s in row)\n",
    "        print(label + '|' + line)\n",
    "\n",
    "def dotplot(seq1,seq2,k = 1,t = 1):\n",
    "    M = makeMatrix(seq1,seq2,k)\n",
    "    plotMatrix(M, t, seq1,seq2) #experiment with chara\n",
    "\n",
    "seqx = 'GGCTGCAACTAGCTC'\n",
    "seqy = 'GGGTAAGCTTGC'\n",
    "dotplot(seqx,seqy)"
   ]
  },
  {
   "cell_type": "code",
   "execution_count": 17,
   "metadata": {},
   "outputs": [
    {
     "output_type": "stream",
     "name": "stdout",
     "text": [
      " |TGGCACACTCACACCACACAGACAGTTA\n------------------------------\nT|X       X                XX \nG| XX                 X   X   \nG| XX                 X   X   \nC|   X X X X X XX X X   X     \nA|    X X   X X  X X X X X   X\nC|   X X X X X XX X X   X     \nA|    X X   X X  X X X X X   X\nC|   X X X X X XX X X   X     \nT|X       X                XX \nC|   X X X X X XX X X   X     \nA|    X X   X X  X X X X X   X\nC|   X X X X X XX X X   X     \nA|    X X   X X  X X X X X   X\nC|   X X X X X XX X X   X     \nC|   X X X X X XX X X   X     \nA|    X X   X X  X X X X X   X\nC|   X X X X X XX X X   X     \nA|    X X   X X  X X X X X   X\nC|   X X X X X XX X X   X     \nA|    X X   X X  X X X X X   X\nG| XX                 X   X   \nA|    X X   X X  X X X X X   X\nC|   X X X X X XX X X   X     \nA|    X X   X X  X X X X X   X\nG| XX                 X   X   \nT|X       X                XX \nT|X       X                XX \nA|    X X   X X  X X X X X   X\n"
     ]
    }
   ],
   "source": [
    "# Question #5\n",
    "seqy = seqx = 'TGGCACACTCACACCACACAGACAGTTA'\n",
    "dotplot(seqx,seqy)"
   ]
  },
  {
   "cell_type": "code",
   "execution_count": 18,
   "metadata": {},
   "outputs": [
    {
     "output_type": "stream",
     "name": "stdout",
     "text": [
      " |AUGUGGCAUGCCAGG\n-----------------\nA|X      X    X  \nU| X X    X      \nG|  X XX   X   XX\nU| X X    X      \nG|  X XX   X   XX\nG|  X XX   X   XX\nC|      X   XX   \nA|X      X    X  \nU| X X    X      \nG|  X XX   X   XX\nC|      X   XX   \nC|      X   XX   \nA|X      X    X  \nG|  X XX   X   XX\nG|  X XX   X   XX\n"
     ]
    }
   ],
   "source": [
    "# Question #6\n",
    "seqy = seqx = 'AUGUGGCAUGCCAGG'\n",
    "dotplot(seqx,seqy)"
   ]
  },
  {
   "cell_type": "code",
   "execution_count": null,
   "metadata": {},
   "outputs": [],
   "source": []
  }
 ]
}